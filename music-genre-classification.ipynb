{
 "cells": [
  {
   "cell_type": "code",
   "execution_count": 1,
   "id": "aff4df5f",
   "metadata": {
    "execution": {
     "iopub.execute_input": "2023-12-07T12:27:56.417575Z",
     "iopub.status.busy": "2023-12-07T12:27:56.417078Z",
     "iopub.status.idle": "2023-12-07T12:27:56.442385Z",
     "shell.execute_reply": "2023-12-07T12:27:56.440791Z"
    },
    "papermill": {
     "duration": 0.034924,
     "end_time": "2023-12-07T12:27:56.446193",
     "exception": false,
     "start_time": "2023-12-07T12:27:56.411269",
     "status": "completed"
    },
    "tags": []
   },
   "outputs": [],
   "source": [
    "import os\n",
    "import librosa\n",
    "import math\n",
    "import json\n",
    "DATASET_PATH = \"/kaggle/input/gtzan-dataset-music-genre-classification/Data/genres_original\"\n",
    "JSON_PATH=\"/kaggle/working/alldata.json\"\n",
    "SAMPLE_RATE =22050\n",
    "DURATION = 30\n",
    "SAMPLES_PER_TRACK = SAMPLE_RATE*DURATION"
   ]
  },
  {
   "cell_type": "markdown",
   "id": "b0555486",
   "metadata": {
    "papermill": {
     "duration": 0.005419,
     "end_time": "2023-12-07T12:27:56.454980",
     "exception": false,
     "start_time": "2023-12-07T12:27:56.449561",
     "status": "completed"
    },
    "tags": []
   },
   "source": [
    "**Preparing Data**"
   ]
  },
  {
   "cell_type": "code",
   "execution_count": 2,
   "id": "f5871aaa",
   "metadata": {
    "_cell_guid": "b1076dfc-b9ad-4769-8c92-a6c4dae69d19",
    "_uuid": "8f2839f25d086af736a60e9eeb907d3b93b6e0e5",
    "execution": {
     "iopub.execute_input": "2023-12-07T12:27:56.464163Z",
     "iopub.status.busy": "2023-12-07T12:27:56.462881Z",
     "iopub.status.idle": "2023-12-07T12:27:56.477330Z",
     "shell.execute_reply": "2023-12-07T12:27:56.475978Z"
    },
    "papermill": {
     "duration": 0.022622,
     "end_time": "2023-12-07T12:27:56.480785",
     "exception": false,
     "start_time": "2023-12-07T12:27:56.458163",
     "status": "completed"
    },
    "tags": []
   },
   "outputs": [],
   "source": [
    "def save_mfcc(dataset_path,jsonPath,n_mfcc=13,n_fft=2048,hop_length = 25,num_segments=5):\n",
    "    #dect to store data\n",
    "    data ={\n",
    "        \"mapping\":[],\n",
    "        \"mfcc\":[],\n",
    "        \"labels\":[]\n",
    "    }\n",
    "    num_seamples_per_segment = int(SAMPLES_PER_TRACK/num_segments)\n",
    "    num_mfcc_vector_per_segment = math.ceil(num_seamples_per_segment/hop_length)\n",
    "    #loop through genra\n",
    "    for i,(dirpath,dirnames,filenames) in enumerate(os.walk(dataset_path)):\n",
    "        if dirpath is not dataset_path:\n",
    "            #save labels\n",
    "            dirpath_components = dirpath.split(\"/\")\n",
    "            semantic_label = dirpath_components[-1]\n",
    "            data[\"mapping\"].append(semantic_label)\n",
    "            print(\"\\nProcessing {}\".format(semantic_label))\n",
    "            for f in filenames:\n",
    "                try:\n",
    "                    #load file path\n",
    "                    file_path = os.path.join(dirpath,f)\n",
    "                    signal , sr = librosa.load(file_path,sr=SAMPLE_RATE)\n",
    "                    #process segemnts and extracting mfcc and storing data\n",
    "                    for s in range(num_segments):\n",
    "                        start_sample = num_seamples_per_segment * s\n",
    "                        finish_sample= start_sample + num_seamples_per_segment\n",
    "                        #store mfcc for segment if it has the expected length\n",
    "                        mfcc = librosa.feature.mfcc(y=signal[start_sample:finish_sample],\n",
    "                                                sr=sr,\n",
    "                                                n_mfcc=n_mfcc,\n",
    "                                                n_fft=n_fft,\n",
    "                                                hop_length=hop_length)\n",
    "                        mfcc = mfcc.T\n",
    "                        data[\"mfcc\"].append(mfcc.tolist())\n",
    "                        print(\"mfcc addded\")\n",
    "                        # \"i\" is the number of genra \n",
    "                        data[\"labels\"].append(i-1)\n",
    "                        print(\"\\n{},segment:{}\".format(file_path,s))\n",
    "                except:\n",
    "                      print(\"An exception occurred\")\n",
    "    with open(JSON_PATH,\"w\") as fp:\n",
    "        json.dump(data,fp,indent=4)"
   ]
  },
  {
   "cell_type": "code",
   "execution_count": 3,
   "id": "b9d488bb",
   "metadata": {
    "execution": {
     "iopub.execute_input": "2023-12-07T12:27:56.489686Z",
     "iopub.status.busy": "2023-12-07T12:27:56.489197Z",
     "iopub.status.idle": "2023-12-07T12:27:56.494520Z",
     "shell.execute_reply": "2023-12-07T12:27:56.493323Z"
    },
    "papermill": {
     "duration": 0.013196,
     "end_time": "2023-12-07T12:27:56.497242",
     "exception": false,
     "start_time": "2023-12-07T12:27:56.484046",
     "status": "completed"
    },
    "tags": []
   },
   "outputs": [],
   "source": [
    "#Done , Commented as the output was made \n",
    "#save_mfcc(DATASET_PATH,JSON_PATH,num_segments=10)"
   ]
  },
  {
   "cell_type": "code",
   "execution_count": null,
   "id": "88eb9923",
   "metadata": {
    "papermill": {
     "duration": 0.002772,
     "end_time": "2023-12-07T12:27:56.503537",
     "exception": false,
     "start_time": "2023-12-07T12:27:56.500765",
     "status": "completed"
    },
    "tags": []
   },
   "outputs": [],
   "source": []
  }
 ],
 "metadata": {
  "kaggle": {
   "accelerator": "none",
   "dataSources": [
    {
     "datasetId": 568973,
     "sourceId": 1032238,
     "sourceType": "datasetVersion"
    }
   ],
   "dockerImageVersionId": 30587,
   "isGpuEnabled": false,
   "isInternetEnabled": true,
   "language": "python",
   "sourceType": "notebook"
  },
  "kernelspec": {
   "display_name": "Python 3",
   "language": "python",
   "name": "python3"
  },
  "language_info": {
   "codemirror_mode": {
    "name": "ipython",
    "version": 3
   },
   "file_extension": ".py",
   "mimetype": "text/x-python",
   "name": "python",
   "nbconvert_exporter": "python",
   "pygments_lexer": "ipython3",
   "version": "3.10.12"
  },
  "papermill": {
   "default_parameters": {},
   "duration": 4.581696,
   "end_time": "2023-12-07T12:27:57.033109",
   "environment_variables": {},
   "exception": null,
   "input_path": "__notebook__.ipynb",
   "output_path": "__notebook__.ipynb",
   "parameters": {},
   "start_time": "2023-12-07T12:27:52.451413",
   "version": "2.4.0"
  }
 },
 "nbformat": 4,
 "nbformat_minor": 5
}
